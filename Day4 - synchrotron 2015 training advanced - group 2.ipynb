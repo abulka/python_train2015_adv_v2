{
 "cells": [
  {
   "cell_type": "markdown",
   "metadata": {},
   "source": [
    "# Day4 - synchrotron 2015 training advanced - group 2"
   ]
  },
  {
   "cell_type": "markdown",
   "metadata": {},
   "source": [
    "Topics today:\n",
    "\n",
    " - logging\n",
    " - shell programming\n",
    " - low level debugging using pdb\n",
    " - databases\n",
    " - Web programming\n",
    "     - requests library\n",
    "     - Theory of web\n",
    "     - REST concept\n",
    "     - Flask\n",
    " - goodbye and good luck!"
   ]
  },
  {
   "cell_type": "markdown",
   "metadata": {
    "collapsed": true
   },
   "source": [
    "# Logging"
   ]
  },
  {
   "cell_type": "markdown",
   "metadata": {},
   "source": [
    "http://www.shutupandship.com/2012/02/how-python-logging-module-works.html\n",
    "\n",
    "  - Handlers are the actual places we output to.\n",
    "  - Loggers are the named 'bucket' objects we create and write to in our code.\n",
    "  - There can be many handlers attached to one logger.\n",
    "  - Messages sent to Loggers propagate to parent loggers (based on . syntax with '' root logger at the top) unless you supress.\n",
    "  - Error level on both the logger and handler will prevent messages of a lower value getting through (lowest is debug, then info, error is a high value)\n",
    "\n",
    "Official doco https://docs.python.org/2/library/logging.html"
   ]
  },
  {
   "cell_type": "markdown",
   "metadata": {},
   "source": [
    "## Simplest way of using logging"
   ]
  },
  {
   "cell_type": "markdown",
   "metadata": {},
   "source": [
    "You don't have to create an instance of anything.  Just use the \"root logger\""
   ]
  },
  {
   "cell_type": "code",
   "execution_count": 1,
   "metadata": {
    "collapsed": true
   },
   "outputs": [],
   "source": [
    "import logging"
   ]
  },
  {
   "cell_type": "code",
   "execution_count": 3,
   "metadata": {
    "collapsed": true
   },
   "outputs": [],
   "source": [
    "logging.info(\"this is a message via the logging system\")"
   ]
  },
  {
   "cell_type": "markdown",
   "metadata": {},
   "source": [
    "We can't see anything yet because the default logging levels is 'warning' thus we don't see messages lower than warning."
   ]
  },
  {
   "cell_type": "markdown",
   "metadata": {},
   "source": [
    "These are the logging levels.\n",
    "\n",
    "    CRITICAL\n",
    "    ERROR\n",
    "    WARNING <<<------\n",
    "    INFO\n",
    "    DEBUG\n",
    "    NOTSET"
   ]
  },
  {
   "cell_type": "code",
   "execution_count": 6,
   "metadata": {
    "collapsed": false
   },
   "outputs": [
    {
     "name": "stderr",
     "output_type": "stream",
     "text": [
      "WARNING:root:this should get through\n",
      "ERROR:root:this shoudl of course\n"
     ]
    }
   ],
   "source": [
    "logging.warning(\"this should get through\")\n",
    "logging.error(\"this shoudl of course\")\n",
    "logging.debug(\"will not\")"
   ]
  },
  {
   "cell_type": "code",
   "execution_count": 14,
   "metadata": {
    "collapsed": false
   },
   "outputs": [],
   "source": [
    "logging.basicConfig(level=logging.DEBUG)  # TODO an exercise to get this to work\n",
    "logging.debug(\"we will see this now, if we are lucky\")"
   ]
  },
  {
   "cell_type": "markdown",
   "metadata": {},
   "source": [
    "## proper advanced use of logging "
   ]
  },
  {
   "cell_type": "code",
   "execution_count": 15,
   "metadata": {
    "collapsed": false
   },
   "outputs": [
    {
     "name": "stderr",
     "output_type": "stream",
     "text": [
      "INFO:mayapp2:this is a piece of information\n"
     ]
    }
   ],
   "source": [
    "# using you own logger instead of the root logger\n",
    "\n",
    "import logging\n",
    "log = logging.getLogger('mayapp2')\n",
    "log.setLevel(logging.INFO)\n",
    "\n",
    "# use the logger\n",
    "log.info('this is a piece of information')"
   ]
  },
  {
   "cell_type": "markdown",
   "metadata": {},
   "source": [
    "Typically you use the ```__name__``` as the name of your logger thus you get the file name which geenrated the log message in your log messages. "
   ]
  },
  {
   "cell_type": "code",
   "execution_count": 20,
   "metadata": {
    "collapsed": false
   },
   "outputs": [
    {
     "name": "stderr",
     "output_type": "stream",
     "text": [
      "INFO:__main__:hello\n"
     ]
    }
   ],
   "source": [
    "log2 = logging.getLogger(__name__)\n",
    "log2.setLevel(logging.INFO)\n",
    "log2.info('hello')"
   ]
  },
  {
   "cell_type": "code",
   "execution_count": 16,
   "metadata": {
    "collapsed": true
   },
   "outputs": [],
   "source": [
    "# changing the log level on the fly\n",
    "log.setLevel(logging.ERROR)\n",
    "log.info(\"this won't be printed\")"
   ]
  },
  {
   "cell_type": "code",
   "execution_count": 17,
   "metadata": {
    "collapsed": false
   },
   "outputs": [
    {
     "name": "stdout",
     "output_type": "stream",
     "text": [
      "reporting level for <logging.Logger object at 0x104846210>\n",
      "DEBUG False\n",
      "INFO False\n",
      "WARN False\n",
      "ERROR True\n",
      "CRITICAL True\n"
     ]
    }
   ],
   "source": [
    "# Andy's useful function to show what levels in a logger are set\n",
    "\n",
    "def report_level(o):\n",
    "    # pass in a logger\n",
    "    print 'reporting level for', o\n",
    "    print 'DEBUG', o.isEnabledFor(logging.DEBUG)\n",
    "    print 'INFO', o.isEnabledFor(logging.INFO)\n",
    "    print 'WARN', o.isEnabledFor(logging.WARN)\n",
    "    print 'ERROR', o.isEnabledFor(logging.ERROR)\n",
    "    print 'CRITICAL', o.isEnabledFor(logging.CRITICAL)\n",
    "report_level(log)"
   ]
  },
  {
   "cell_type": "markdown",
   "metadata": {},
   "source": [
    "## wiring in handlers to loggers"
   ]
  },
  {
   "cell_type": "markdown",
   "metadata": {},
   "source": [
    "<img src=\"logging_whiteboard1.jpeg\">\n",
    "<img src=https://raw.githubusercontent.com/abulka/python_train2015_adv_v2/master/logging_whiteboard1.jpeg>"
   ]
  },
  {
   "cell_type": "code",
   "execution_count": 22,
   "metadata": {
    "collapsed": false
   },
   "outputs": [
    {
     "name": "stderr",
     "output_type": "stream",
     "text": [
      "ERROR:mayapp2:this is an error mate - today is 15th\n"
     ]
    }
   ],
   "source": [
    "# handler that writes to a file\n",
    "fh = logging.FileHandler('debug.log')\n",
    "\n",
    "# add the handler to the logger\n",
    "log.addHandler(fh)\n",
    "\n",
    "# test\n",
    "log.error('this is an error mate - today is 15th')"
   ]
  },
  {
   "cell_type": "markdown",
   "metadata": {},
   "source": [
    "List of handlers built into python https://docs.python.org/2/library/logging.handlers.html#module-logging.handlers"
   ]
  },
  {
   "cell_type": "markdown",
   "metadata": {},
   "source": [
    "**tip**\n",
    "\n",
    "    tail -f debug.log\n",
    "    \n",
    "will print the end of the log file in real time - handy for watching log files"
   ]
  },
  {
   "cell_type": "markdown",
   "metadata": {},
   "source": [
    "## adding formatting"
   ]
  },
  {
   "cell_type": "code",
   "execution_count": 28,
   "metadata": {
    "collapsed": false
   },
   "outputs": [
    {
     "name": "stderr",
     "output_type": "stream",
     "text": [
      "ERROR:__main__:this is a nicer looking message\n",
      "ERROR:__main__:one more for the road\n"
     ]
    }
   ],
   "source": [
    "# create a formatter and set the formatter for the handler, \n",
    "# then attach to our logger\n",
    "frmt = logging.Formatter('LOG AHOY %(asctime)s - %(name)s - %(levelname)s - %(module)s - %(lineno)d - %(message)s')\n",
    "fh = logging.FileHandler('debug.log')  \n",
    "fh.setFormatter(frmt)  # WIRING\n",
    "\n",
    "log = logging.getLogger(__name__)\n",
    "log.setLevel(logging.INFO)\n",
    "log.addHandler(fh)  # WIRING\n",
    "\n",
    "# Test\n",
    "log.error('this is a nicer looking message')\n",
    "log.error('one more for the road')\n"
   ]
  },
  {
   "cell_type": "markdown",
   "metadata": {},
   "source": [
    "**Exercise**: Create a logger which outputs to **two** handlers simultaneously.  They are both file handlers 'simple.log' and 'debug.log'.  Make the formatter for them different, so the simple one gets a simpler format.  Also, the simple handler should only get messages at info level and above, whilst the other hander gets all debug messages."
   ]
  },
  {
   "cell_type": "code",
   "execution_count": 30,
   "metadata": {
    "collapsed": false
   },
   "outputs": [
    {
     "name": "stderr",
     "output_type": "stream",
     "text": [
      "ERROR:main logger:this is a nice looking message\n",
      "ERROR:main logger:and one more for the road\n"
     ]
    }
   ],
   "source": [
    "# Solution\n",
    "\n",
    "# two formatters\n",
    "fmt_complex = logging.Formatter('LOG AHOY %(asctime)s - %(name)s - %(levelname)s - %(module)s - %(lineno)d - %(message)s')\n",
    "fmt_simple = logging.Formatter('%(message)s')\n",
    "\n",
    "# two handlers\n",
    "handler_simple = logging.FileHandler('simple.log')  \n",
    "handler_complex = logging.FileHandler('debug.log')\n",
    "# wiring formatter to the handler\n",
    "handler_simple.setFormatter(fmt_simple)\n",
    "handler_complex.setFormatter(fmt_complex)\n",
    "\n",
    "# one logger!\n",
    "log = logging.getLogger('main logger') # call a logger anything you like\n",
    "log.addHandler(handler_simple)  # WIRING\n",
    "log.addHandler(handler_complex)  # WIRING\n",
    "\n",
    "# set levels\n",
    "log.setLevel(logging.DEBUG)   # Allow everything through\n",
    "handler_simple.setLevel(logging.INFO)  # only allow through >= INFO\n",
    "handler_complex.setLevel(logging.DEBUG) # allow through >= DEBUG\n",
    "\n",
    "# Test\n",
    "log.error('this is a nice looking message')\n",
    "log.error('and one more for the road')\n"
   ]
  },
  {
   "cell_type": "markdown",
   "metadata": {},
   "source": [
    "### Discussion\n",
    "- other modules can talk to the same logger (the get Logger will find an existing logger or create a new one)\n",
    "- OR other modules can create their own logger and as long as you are wiring that logger to the same handlers, the output will appear in the same place, except you will have the different module name being reported\n",
    "\n",
    "** inheritance tip**\n",
    "- use inhertance to save yourself from having to wire up each new logger. e.g. a logger called 'a' can be wired up.  Then create a logger 'a.b' and it will inherit all the wiring.\n"
   ]
  },
  {
   "cell_type": "markdown",
   "metadata": {},
   "source": [
    "Many web frameworks etc. have a way to set up your logging via dictionaries (configuration) rather than explicit wiring.  E.g. DJANGO \n",
    "\n",
    "Third party logging services - https://logentries.com/product/live-tail/"
   ]
  },
  {
   "cell_type": "markdown",
   "metadata": {
    "collapsed": true
   },
   "source": [
    "# Shell programming"
   ]
  },
  {
   "cell_type": "code",
   "execution_count": 33,
   "metadata": {
    "collapsed": false
   },
   "outputs": [
    {
     "name": "stdout",
     "output_type": "stream",
     "text": [
      "GOT: logging_whiteboard1.jpeg\n"
     ]
    }
   ],
   "source": [
    "import os\n",
    "results = os.popen(\"ls\").readlines()\n",
    "for line in results:\n",
    "    if 'jpeg' in line:\n",
    "        print 'GOT:', line.rstrip()"
   ]
  },
  {
   "cell_type": "code",
   "execution_count": 34,
   "metadata": {
    "collapsed": false
   },
   "outputs": [
    {
     "name": "stdout",
     "output_type": "stream",
     "text": [
      "0\n"
     ]
    }
   ],
   "source": [
    "# if you don't want the actual output of the commands, just the 'success state'\n",
    "# 0 is success (by convention)\n",
    "# 1 is error\n",
    "import os\n",
    "success = os.system(\"ls\")  # this only gets you the state, not the outut\n",
    "print success"
   ]
  },
  {
   "cell_type": "markdown",
   "metadata": {},
   "source": [
    "## you can write programs to return status codes:\n",
    "\n",
    "Write your 'external' program in bash, or python - or any language\n",
    "\n",
    "**sayhello.sh**\n",
    "    # sample bash command\n",
    "    echo \"hello\"\n",
    "    exit 0\n",
    "    \n",
    "**sayhello.py**\n",
    "    #!/usr/bin/python\n",
    "    import sys\n",
    "    print \"hello\"\n",
    "    sys.exit(1)                                                           \n",
    "\n",
    "The ```echo $?``` tells you the status code of the last run program\n",
    "\n",
    "    bash-3.2$ python sayhello.py\n",
    "    hello\n",
    "    bash-3.2$ echo $?                                                         \n",
    "    0                                                                     \n",
    "    bash-3.2$ ./sayhello.sh\n",
    "    hello\n",
    "    bash-3.2$ echo $?\n",
    "    0\n",
    "    \n",
    "Then we alter the code so that it has a different exit statusexit\n",
    "    bash-3.2$ ./sayhello.sh\n",
    "    hello\n",
    "    bash-3.2$ echo $?\n",
    "    1                                                                     \n",
    "    "
   ]
  },
  {
   "cell_type": "code",
   "execution_count": 47,
   "metadata": {
    "collapsed": false
   },
   "outputs": [
    {
     "name": "stdout",
     "output_type": "stream",
     "text": [
      "command succeeded\n"
     ]
    }
   ],
   "source": [
    "# Example of calling an external program and checking the status code.\n",
    "# In this case we raise a custom exception if there is an error.\n",
    "\n",
    "class MyOsCallingException(Exception):\n",
    "    pass\n",
    "\n",
    "exit_status = os.system(\"./sayhello.sh\")\n",
    "#exit_status = os.system(\"./sayhello.py\")\n",
    "if exit_status == 0:\n",
    "    print 'command succeeded'\n",
    "else:\n",
    "    # raise RuntimeError(\"my external program run failed\")\n",
    "    raise MyOsCallingException(\"my external program run failed\")\n",
    "    "
   ]
  },
  {
   "cell_type": "code",
   "execution_count": 41,
   "metadata": {
    "collapsed": false
   },
   "outputs": [
    {
     "name": "stdout",
     "output_type": "stream",
     "text": [
      "['hello\\n']\n"
     ]
    }
   ],
   "source": [
    "# need the ./ so that the command is found \n",
    "# (unless you have . in your PATH or this command lived in a dir \n",
    "# that is in your paths)\n",
    "print os.popen(\"./sayhello.sh\").readlines()"
   ]
  },
  {
   "cell_type": "code",
   "execution_count": 42,
   "metadata": {
    "collapsed": false
   },
   "outputs": [
    {
     "name": "stdout",
     "output_type": "stream",
     "text": [
      "['',\n",
      " '/Users/Andy/miniconda/envs/py2k/lib/python27.zip',\n",
      " '/Users/Andy/miniconda/envs/py2k/lib/python2.7',\n",
      " '/Users/Andy/miniconda/envs/py2k/lib/python2.7/plat-darwin',\n",
      " '/Users/Andy/miniconda/envs/py2k/lib/python2.7/plat-mac',\n",
      " '/Users/Andy/miniconda/envs/py2k/lib/python2.7/plat-mac/lib-scriptpackages',\n",
      " '/Users/Andy/miniconda/envs/py2k/lib/python2.7/lib-tk',\n",
      " '/Users/Andy/miniconda/envs/py2k/lib/python2.7/lib-old',\n",
      " '/Users/Andy/miniconda/envs/py2k/lib/python2.7/lib-dynload',\n",
      " '/Users/Andy/miniconda/envs/py2k/lib/python2.7/site-packages',\n",
      " '/Users/Andy/miniconda/envs/py2k/lib/python2.7/site-packages/setuptools-5.7-py2.7.egg',\n",
      " '/Users/Andy/miniconda/envs/py2k/lib/python2.7/site-packages/IPython/extensions']\n"
     ]
    }
   ],
   "source": [
    "# PATH issues are similar to PYTHONPATH issues\n",
    "import sys\n",
    "import pprint\n",
    "pprint.pprint(sys.path)"
   ]
  },
  {
   "cell_type": "markdown",
   "metadata": {},
   "source": [
    "## subprocess module"
   ]
  },
  {
   "cell_type": "code",
   "execution_count": 48,
   "metadata": {
    "collapsed": false
   },
   "outputs": [
    {
     "name": "stdout",
     "output_type": "stream",
     "text": [
      "  UID   PID  PPID   C STIME   TTY           TIME CMD\n",
      "    0     1     0   0 Sun09am ??         1:28.96 /sbin/launchd\n",
      "    0    44     1   0 Sun09am ??         0:07.40 /usr/sbin/syslogd\n",
      "    0    45     1   0 Sun09am ??         0:30.79 /usr/libexec/UserEventAgent (System)\n",
      "    0    47     1   0 Sun09am ??         0:05.62 /usr/libexec/kextd\n",
      "    0    48     1   0 Sun09am ??         0:25.50 /System/Librar\n"
     ]
    }
   ],
   "source": [
    "# get output of a command using the subprocess module technique\n",
    "import subprocess\n",
    "\n",
    "# Run sheell command\n",
    "result = subprocess.check_output([\"ps\", \"-e\", \"-a\", \"-f\"])\n",
    "print result[0:400]  # limit what we display"
   ]
  },
  {
   "cell_type": "code",
   "execution_count": 44,
   "metadata": {
    "collapsed": false
   },
   "outputs": [
    {
     "name": "stdout",
     "output_type": "stream",
     "text": [
      "<subprocess.Popen object at 0x10484f6d0>\n"
     ]
    }
   ],
   "source": [
    "p = subprocess.Popen(\"ls -lR\", shell=True)\n",
    "print p"
   ]
  },
  {
   "cell_type": "code",
   "execution_count": 46,
   "metadata": {
    "collapsed": false,
    "scrolled": true
   },
   "outputs": [
    {
     "name": "stdout",
     "output_type": "stream",
     "text": [
      "<subprocess.Popen object at 0x104846b50>\n"
     ]
    }
   ],
   "source": [
    "process = subprocess.Popen(['ls', '-l'], stdout=subprocess.PIPE)\n",
    "print process\n",
    "#process.wait()\n",
    "s = process.stdout.read()"
   ]
  },
  {
   "cell_type": "markdown",
   "metadata": {},
   "source": [
    "More info:\n",
    "\n",
    "http://www.python-course.eu/os_module_shell.php"
   ]
  },
  {
   "cell_type": "markdown",
   "metadata": {},
   "source": [
    "# Databases"
   ]
  },
  {
   "cell_type": "markdown",
   "metadata": {},
   "source": [
    "other 'persistence' options:\n",
    "\n",
    "- **redis** (in memory, saved itslef automatically, non sql - 'advanced key value store', where values can be binary files, network endpoint, supports lists and sets as values, fast, publisher subscribe so can see changed when push to it, json support\n",
    "- **memcached** - in memory dictionary which is globally accessible on the one machine / has server (like redis but cheap and doesn't persist)\n",
    "- **pickle** (saves python objects to disk and back again)\n",
    "- **shelve** (dictionary that persists to disk automatically - like redis but sinple python object and non network)\n",
    "- use **files** - manually write and read, possibly use csv format, \n",
    "- **DB (sql based)** - standard, usable by other systems, relational, queriable etc."
   ]
  },
  {
   "cell_type": "markdown",
   "metadata": {},
   "source": [
    "## sqlite"
   ]
  },
  {
   "cell_type": "code",
   "execution_count": 51,
   "metadata": {
    "collapsed": false
   },
   "outputs": [
    {
     "name": "stdout",
     "output_type": "stream",
     "text": [
      "3.8.4.1\n"
     ]
    }
   ],
   "source": [
    "import sqlite3\n",
    "print sqlite3.sqlite_version"
   ]
  },
  {
   "cell_type": "code",
   "execution_count": 52,
   "metadata": {
    "collapsed": false
   },
   "outputs": [
    {
     "name": "stdout",
     "output_type": "stream",
     "text": [
      "<__main__.Car instance at 0x104853dd0>\n"
     ]
    }
   ],
   "source": [
    "# classic python\n",
    "\n",
    "class Car:\n",
    "    def __init__(self, id, name, price):\n",
    "        self.id = id\n",
    "        self.name = name\n",
    "        self.price = price\n",
    "        \n",
    "audi = Car(1, 'Audi', 120000)\n",
    "print audi"
   ]
  },
  {
   "cell_type": "code",
   "execution_count": 54,
   "metadata": {
    "collapsed": false
   },
   "outputs": [
    {
     "name": "stdout",
     "output_type": "stream",
     "text": [
      "all done\n"
     ]
    }
   ],
   "source": [
    "# SQL DB equivalent\n",
    "\n",
    "con = sqlite3.connect('cars.db')\n",
    "with con:\n",
    "    cur = con.cursor()\n",
    "    cur.execute(\"create table Cars(id INT, name TEXT, price INT)\") # create table\n",
    "    cur.execute(\"insert into Cars values(1, 'Audi', 120000)\")\n",
    "print 'all done'"
   ]
  },
  {
   "cell_type": "markdown",
   "metadata": {},
   "source": [
    "Access your db from the command line:\n",
    "\n",
    "    > sqlite3 cars.db\n",
    "    select * from Cars\n",
    "    .tables\n",
    "    .schema Cars\n",
    "\n",
    "etc.\n"
   ]
  },
  {
   "cell_type": "markdown",
   "metadata": {},
   "source": [
    "sqllite is part of python distibution, no need to install anything.\n",
    "\n",
    "https://github.com/lazierthanthou/sqlite-manager  visual tool for firefox, which lets you look inside databases\n",
    "\n"
   ]
  },
  {
   "cell_type": "code",
   "execution_count": 60,
   "metadata": {
    "collapsed": false
   },
   "outputs": [
    {
     "name": "stdout",
     "output_type": "stream",
     "text": [
      "1 Audi 120001\n",
      "2 Commodore 40000\n",
      "10 Tesla 130000\n",
      "10 Tesla 130000\n",
      "10 Tesla 130000\n"
     ]
    }
   ],
   "source": [
    "con = sqlite3.connect('cars.db')\n",
    "with con:\n",
    "    con.row_factory = sqlite3.Row\n",
    "    cur = con.cursor()\n",
    "    cur.execute(\"select * from Cars\")\n",
    "    rows = cur.fetchall()\n",
    "    \n",
    "    for row in rows:\n",
    "        print \"%s %s %s\" % (row['id'], row['name'], row['price'])    "
   ]
  },
  {
   "cell_type": "code",
   "execution_count": 59,
   "metadata": {
    "collapsed": true
   },
   "outputs": [],
   "source": [
    "# leave out the create table command and insert more values!\n",
    "with con:\n",
    "    cur = con.cursor()\n",
    "    cur.execute(\"insert into Cars values(10, 'Tesla', 130000)\")"
   ]
  },
  {
   "cell_type": "markdown",
   "metadata": {},
   "source": [
    "## ORM - object relational mapping"
   ]
  },
  {
   "cell_type": "markdown",
   "metadata": {},
   "source": [
    "Rave on Anders and having sql like powers built into the language - rather than passing strings to a black box sql engine.\n",
    "https://msdn.microsoft.com/en-us/library/bb397947.aspx\n",
    "\n",
    "e.g.\n",
    "\n",
    "    IEnumerable<CustomerTuple> locals = \n",
    "        customers.Where(c => c.ZipCode == 91822)\n",
    "                     .Select(c => new CustomerTuple(c.Name, c.Address));\n",
    "                 \n",
    "                 "
   ]
  },
  {
   "cell_type": "markdown",
   "metadata": {},
   "source": [
    "### HOME GROWN ORM"
   ]
  },
  {
   "cell_type": "code",
   "execution_count": null,
   "metadata": {
    "collapsed": false
   },
   "outputs": [],
   "source": [
    "# HOME GROWN ORM  :-)\n",
    "\n",
    "# load all the db cars into a list of Car objects\n",
    "\n",
    "with con:\n",
    "    con.row_factory = sqlite3.Row\n",
    "    cur = con.cursor()\n",
    "    cur.execute(\"select * from Cars\")\n",
    "    rows = cur.fetchall()\n",
    "    \n",
    "    cars = []\n",
    "    for row in rows:\n",
    "        car = Car(row['id'], row['name'], row['price'])\n",
    "        cars.append(car)\n",
    "        \n",
    "print \"We have loaded\", len(cars), \"cars from the db\"\n",
    "for car in cars:\n",
    "    print \"%s %s %s\" % (car.id, car.name, car.price)\n",
    "    \n",
    "# doing search using pure python\n",
    "print 'cheaper cars:'\n",
    "for car in cars:\n",
    "    if car.price < 60000:\n",
    "        print car.name\n"
   ]
  },
  {
   "cell_type": "markdown",
   "metadata": {},
   "source": [
    "# PDB debugging "
   ]
  },
  {
   "cell_type": "code",
   "execution_count": null,
   "metadata": {
    "collapsed": true
   },
   "outputs": [],
   "source": [
    "import pdb; pdb.set_trace()"
   ]
  },
  {
   "cell_type": "markdown",
   "metadata": {},
   "source": [
    "**KEY COMMANDS TO USE**\n",
    "\n",
    " - use 'c' to continue\n",
    " - use 'l' to list source code around current position\n",
    " - 'n' next (step over - which doesn't skip anything, just doesn't bother drilling in to a function)\n",
    " - 's' step (step in - drill into a function step by step)\n",
    " - 'q' quit without running any more python code\n",
    "\n",
    "Note you can use any python command - you are inside the python interpreter!! :-)\n",
    "\n",
    "Help on any command e.g.\n",
    "\n",
    "    h b\n",
    "help on the break command."
   ]
  },
  {
   "cell_type": "markdown",
   "metadata": {},
   "source": [
    "# WEB programming"
   ]
  },
  {
   "cell_type": "markdown",
   "metadata": {},
   "source": [
    "http is text based - its a 'language' of sorts\n",
    "\n",
    "GET, POST, PUT, DELETE talk to urls\n",
    "\n",
    "request and response\n",
    "\n",
    "    response codes e.g.\n",
    "    200, ok\n",
    "    202 here is your response but I'm not finished so check back later,\n",
    "    404 not found, \n",
    "    500 server error, \n",
    "    301 redirect etc. \n",
    "\n",
    "see http://en.wikipedia.org/wiki/List_of_HTTP_status_codes#2xx_Success for all codes.  These appear in the HEADER of the repsonse.\n",
    "\n",
    "header vs body"
   ]
  },
  {
   "cell_type": "markdown",
   "metadata": {},
   "source": [
    "## Using httpie or curl to invoke URLs"
   ]
  },
  {
   "cell_type": "markdown",
   "metadata": {},
   "source": [
    "use curl\n",
    "curl -i to see the headers\n",
    "\n",
    "or\n",
    "\n",
    "httpie (brew install httpie or use sudo ...., pip install httpie) https://github.com/jakubroztocil/httpie\n",
    "\n",
    "invoke with \n",
    "\n",
    "    http ......\n",
    "\n",
    "http www.google.com\n",
    "\n",
    "    HTTP/1.1 302 Found\n",
    "    Alternate-Protocol: 80:quic,p=0.5\n",
    "    Cache-Control: private\n",
    "    Content-Length: 262\n",
    "    Content-Type: text/html; charset=UTF-8\n",
    "    Date: Mon, 30 Mar 2015 01:28:17 GMT\n",
    "    Location: http://www.google.com.au/?gfe_rd=cr&ei=saYYVc2KLrDu8we9_oD4CA\n",
    "    Server: GFE/2.0\n",
    "\n",
    "    <HTML><HEAD><meta http-equiv=\"content-type\" content=\"text/html;charset=utf-8\">\n",
    "    <TITLE>302 Moved</TITLE></HEAD><BODY>\n",
    "    <H1>302 Moved</H1>\n",
    "    The document has moved\n",
    "    <A HREF=\"http://www.google.com.au/?gfe_rd=cr&amp;ei=saYYVc2KLrDu8we9_oD4CA\">here</A>.\n",
    "    </BODY></HTML>\n"
   ]
  },
  {
   "cell_type": "markdown",
   "metadata": {},
   "source": [
    "## Simple FLASK server"
   ]
  },
  {
   "cell_type": "code",
   "execution_count": null,
   "metadata": {
    "collapsed": true
   },
   "outputs": [],
   "source": [
    "from flask import Flask\n",
    "from flask import request\n",
    "\n",
    "app = Flask(__name__)\n",
    "\n",
    "@app.route('/')\n",
    "def hello_world():\n",
    "    return 'Hello world'\n",
    "\n",
    "@app.route('/hello'):\n",
    "def hello_world2():\n",
    "    return 'hello world 2 you attempt to do a %s on my url' % request.method\n",
    "\n",
    "if __name__ == '__main__':\n",
    "    app.run(debug=True)  # the server will automatically reload when source code changes\n",
    "    "
   ]
  },
  {
   "cell_type": "markdown",
   "metadata": {},
   "source": [
    "http localhost:5000/hello name=fred\n",
    "\n",
    "    HTTP/1.0 405 METHOD NOT ALLOWED\n",
    "    Allow: HEAD, OPTIONS, GET\n",
    "    Content-Length: 178\n",
    "    Content-Type: text/html\n",
    "    Date: Mon, 15 Jun 2015 05:15:07 GMT\n",
    "    Server: Werkzeug/0.10.1 Python/2.7.8\n",
    "\n",
    "    <!DOCTYPE HTML PUBLIC \"-//W3C//DTD HTML 3.2 Final//EN\">\n",
    "    <title>405 Method Not Allowed</title>\n",
    "    <h1>Method Not Allowed</h1>\n",
    "    <p>The method is not allowed for the requested URL.</p>\n"
   ]
  },
  {
   "cell_type": "markdown",
   "metadata": {},
   "source": [
    "## REST - what does it mean?\n",
    "\n",
    "Basically treating URLs as 'resources' that are accessed via CRUD operations - which http happens to have!  Server should be stateless and discoverable etc."
   ]
  },
  {
   "cell_type": "markdown",
   "metadata": {},
   "source": [
    "<img src=\"REST_whiteboard2.jpeg\">\n",
    "<img src=https://raw.githubusercontent.com/abulka/python_train2015_adv_v2/master/REST_whiteboard2.jpeg>"
   ]
  },
  {
   "cell_type": "markdown",
   "metadata": {},
   "source": [
    "## Getting info UP to the server\n",
    "\n",
    "### technique 1 - use a GET and use your url structure\n"
   ]
  },
  {
   "cell_type": "code",
   "execution_count": null,
   "metadata": {
    "collapsed": true
   },
   "outputs": [],
   "source": [
    "# http://127.0.0.1:5000/hello2/fred\n",
    "\n",
    "@app.route('/hello2/<name>', methods=['GET'])\n",
    "def hello_world2(name=None):\n",
    "    return \"hello %s\" % name\n",
    "\n",
    "# Ps can route similar url which has differently typed url components (e.g. int vs string) to different functions e.g.\n",
    "@app.route('/hello2/<int:name>')\n",
    "def hello_world2_int(name=None):\n",
    "    res = \"\"\n",
    "    num_times = name  # since a number was passed in\n",
    "    for i in range(num_times):\n",
    "        res += \"hello! \"\n",
    "    return res\n",
    "\n",
    "# The point is, the above urls are the same\n",
    "# you might get a string one day, or an int \n",
    "# and flask will route you to different methods depending on the type."
   ]
  },
  {
   "cell_type": "markdown",
   "metadata": {},
   "source": [
    "### technique 2 - use a GET and use get parameters"
   ]
  },
  {
   "cell_type": "markdown",
   "metadata": {},
   "source": [
    "http://127.0.0.1:5000/hello3?who=fred\n",
    "http://127.0.0.1:5000/hello3?who=fred&when=tomorrow  # two name value pairs\n",
    "\n",
    "NOTE: be careful to not veer off into non restful land and use GET for sending real info.  Its ok if you use it for e.g. ?limit=100&filter=\"age > 100\"\n",
    "\n",
    "To access parameters submitted in the URL (?key=value) you can use the args attribute:\n",
    "\n",
    "thus\n",
    "\n",
    "http://127.0.0.1:5000/hello3?who=mary"
   ]
  },
  {
   "cell_type": "code",
   "execution_count": null,
   "metadata": {
    "collapsed": true
   },
   "outputs": [],
   "source": [
    "# Build a handler for GET where you can send up parameters using the ? \n",
    "# syntax above\n",
    "\n",
    "#The method you will need is:\n",
    "request.args.get\n",
    "\n",
    "# and remember to\n",
    "from flask import request"
   ]
  },
  {
   "cell_type": "code",
   "execution_count": null,
   "metadata": {
    "collapsed": true
   },
   "outputs": [],
   "source": [
    "# technique 2\n",
    "# To access parameters submitted in the URL (?key=value) you can use the args attribute:\n",
    "@app.route('/hello3', methods=['GET'])\n",
    "def hello_world3():\n",
    "    who = request.args.get('who', 'stranger')  # if parameter not found\n",
    "    return \"hello %s\" % who\n"
   ]
  },
  {
   "cell_type": "markdown",
   "metadata": {},
   "source": [
    "testing...\n",
    "\n",
    "    (py2k)Andys-MacBook-Air:python_training_2015_advanced Andy$ http localhost:5000/hello3?who=fred\n",
    "    HTTP/1.0 200 OK\n",
    "    Content-Length: 10\n",
    "    Content-Type: text/html; charset=utf-8\n",
    "    Date: Mon, 15 Jun 2015 05:57:07 GMT\n",
    "    Server: Werkzeug/0.10.1 Python/2.7.8\n",
    "\n",
    "    hello fred\n",
    "\n",
    "    (py2k)Andys-MacBook-Air:python_training_2015_advanced Andy$ http localhost:5000/hello3\n",
    "    HTTP/1.0 200 OK\n",
    "    Content-Length: 14\n",
    "    Content-Type: text/html; charset=utf-8\n",
    "    Date: Mon, 15 Jun 2015 05:57:23 GMT\n",
    "    Server: Werkzeug/0.10.1 Python/2.7.8\n",
    "\n",
    "    hello stranger\n"
   ]
  },
  {
   "cell_type": "markdown",
   "metadata": {},
   "source": [
    "### technique 3 - get info passed via a POST"
   ]
  },
  {
   "cell_type": "code",
   "execution_count": null,
   "metadata": {
    "collapsed": true
   },
   "outputs": [],
   "source": [
    "# using requests library to send up a form\n",
    "\n",
    ">>> import requests\n",
    ">>> response = requests.post('http://localhost:5000/info1', data={'name':'fred'})\n"
   ]
  },
  {
   "cell_type": "markdown",
   "metadata": {},
   "source": [
    "Using curl to send up a form\n",
    "\n",
    "    curl -F name=fred 127.0.0.1:5000/info1\n"
   ]
  },
  {
   "cell_type": "code",
   "execution_count": null,
   "metadata": {
    "collapsed": true
   },
   "outputs": [],
   "source": [
    "# technique 3 - get the info via a POST\n",
    "@app.route('/info1', methods=['POST'])\n",
    "def info1():\n",
    "    if request.method == 'POST':\n",
    "        print request.form\n",
    "    return 'Name is %s' % request.form['name']\n"
   ]
  },
  {
   "cell_type": "code",
   "execution_count": null,
   "metadata": {
    "collapsed": true
   },
   "outputs": [],
   "source": [
    "\n",
    "@app.route('/info1', methods=['POST'])\n",
    "def info1():\n",
    "    # request.data is a string\n",
    "    if request.method == 'POST':\n",
    "        print 'got a post!!!', request.content_type\n",
    "        # import pdb;pdb.set_trace()\n",
    "\n",
    "        # universal - but only returns a string.\n",
    "        #request.get_data()\n",
    "\n",
    "        # if content type sent from a form\n",
    "        # e.g. http http://127.0.0.1:5000/info1 a=b -f\n",
    "        if '/json' in request.content_type:\n",
    "            # if content type sent as json\n",
    "            # http http://127.0.0.1:5000/info1 a=b\n",
    "            # print request.get_json()['a']\n",
    "            return \"got id=%(a)s\" % request.get_json()\n",
    "        else:\n",
    "            # sent as a form\n",
    "\n",
    "            # be careful in case all the form data is not supplied and keys are missing\n",
    "            # if 'a' in request.form.keys():\n",
    "            #     ....\n",
    "\n",
    "            # print request.form['a']\n",
    "            return \"got id=%(a)s\" % request.form\n",
    "\n"
   ]
  },
  {
   "cell_type": "markdown",
   "metadata": {},
   "source": [
    "# Flask - templates"
   ]
  },
  {
   "cell_type": "code",
   "execution_count": null,
   "metadata": {
    "collapsed": true
   },
   "outputs": [],
   "source": [
    "from flask import Flask\n",
    "from flask import request\n",
    "\n",
    "app = Flask(__name__)\n",
    "\n",
    "@app.route('/hello')\n",
    "def hello_world():\n",
    "    return 'Hello world'\n",
    "\n",
    "@app.route('/hello/<name>', methods=['GET', 'POST'])\n",
    "def hello_world2(name=None):\n",
    "    return 'hello world %s you attempt to do a %s on my url' % (name, request.method)\n",
    "\n",
    "# Ps can route similar url which has differently typed url components (e.g. int vs string) to different functions e.g.\n",
    "@app.route('/hello/<int:name>')\n",
    "def hello_world2_int(name=None):\n",
    "    res = \"\"\n",
    "    num_times = name  # since a number was passed in\n",
    "    for i in range(num_times):\n",
    "        res += \"hello! \"\n",
    "    return res\n",
    "\n",
    "# technique 2\n",
    "# To access parameters submitted in the URL (?key=value) you can use the args attribute:\n",
    "@app.route('/hello3', methods=['GET'])\n",
    "def hello_world3():\n",
    "    who = request.args.get('who', 'stranger')  # if parameter not found\n",
    "    return \"hello %s\" % who\n",
    "\n",
    "\n",
    "# technique 3 - get the info via a POST\n",
    "@app.route('/info1', methods=['POST'])\n",
    "def info1():\n",
    "    if request.method == 'POST':\n",
    "        print request.form\n",
    "    return 'Name is %s' % request.form['name']\n",
    "\n",
    "\n",
    "from flask import render_template\n",
    "@app.route('/template1')\n",
    "def template1():\n",
    "    return render_template('template1.html',\n",
    "                           info='here is some info',\n",
    "                           num_times=20,\n",
    "                           )\n",
    "\n",
    "from flask import render_template\n",
    "@app.route('/cars')\n",
    "def cars():\n",
    "\n",
    "    class Car:\n",
    "        def __init__(self, id, name, price):\n",
    "            self.Id = id\n",
    "            self.Name = name\n",
    "            self.Price = price\n",
    "\n",
    "    cars = [\n",
    "        Car(1, 'VW', 5000),\n",
    "        Car(2, 'Mercedes', 210000),\n",
    "        Car(3, 'Jag', 110000) ]\n",
    "\n",
    "    return render_template('template2.html',\n",
    "                           cars=cars)\n",
    "\n",
    "\n",
    "\n",
    "if __name__ == '__main__':\n",
    "    app.run(debug=True)  # the server will automatically reload when source code changes\n"
   ]
  },
  {
   "cell_type": "markdown",
   "metadata": {},
   "source": [
    "### corresponding templates:"
   ]
  },
  {
   "cell_type": "markdown",
   "metadata": {},
   "source": [
    "templates/template1.html"
   ]
  },
  {
   "cell_type": "code",
   "execution_count": null,
   "metadata": {
    "collapsed": true
   },
   "outputs": [],
   "source": [
    "<!DOCTYPE html>\n",
    "<html>\n",
    "<head lang=\"en\">\n",
    "    <meta charset=\"UTF-8\">\n",
    "    <title></title>\n",
    "</head>\n",
    "<body>\n",
    "  Hello world AGAIN!\n",
    " <p>this is some <b>{{ info }}</b></p>\n",
    "\n",
    "{% for i in range(num_times)  %}\n",
    "    <p>{{ i }}</p>\n",
    "{% endfor %}\n",
    "\n",
    "\n",
    "</body>\n",
    "</html>"
   ]
  },
  {
   "cell_type": "code",
   "execution_count": null,
   "metadata": {
    "collapsed": true
   },
   "outputs": [],
   "source": [
    "templates/template2.html"
   ]
  },
  {
   "cell_type": "markdown",
   "metadata": {},
   "source": [
    "Creating Car objects on the server and then display them via a template:"
   ]
  },
  {
   "cell_type": "code",
   "execution_count": null,
   "metadata": {
    "collapsed": true
   },
   "outputs": [],
   "source": [
    "<!DOCTYPE html>\n",
    "<html>\n",
    "<head lang=\"en\">\n",
    "    <meta charset=\"UTF-8\">\n",
    "    <title></title>\n",
    "</head>\n",
    "<body>\n",
    "\n",
    "<h1>Here are my Cars</h1>\n",
    "{% for car in cars  %}\n",
    "    <p>Id: {{ car.Id }}</p>\n",
    "    <p>Name: {{ car.Name }}</p>\n",
    "    <p>Price: {{ car.Price }}</p>\n",
    "{% endfor %}\n",
    "\n",
    "</body>\n",
    "</html>"
   ]
  },
  {
   "cell_type": "markdown",
   "metadata": {},
   "source": [
    "http://127.0.0.1:5000/cars\n",
    "\n",
    "**result:**\n",
    "\n",
    "Here are my Cars\n",
    "\n",
    "Id: 1\n",
    "\n",
    "Name: VW\n",
    "\n",
    "Price: 5000\n",
    "\n",
    "Id: 2\n",
    "\n",
    "Name: Mercedes\n",
    "\n",
    "Price: 210000\n",
    "\n",
    "Id: 3\n",
    "\n",
    "Name: Jag\n",
    "\n",
    "Price: 110000"
   ]
  },
  {
   "cell_type": "markdown",
   "metadata": {},
   "source": [
    "See uploaded project **flask_demo2**"
   ]
  },
  {
   "cell_type": "markdown",
   "metadata": {},
   "source": [
    "END OF 4 day course.  Thank you."
   ]
  },
  {
   "cell_type": "code",
   "execution_count": null,
   "metadata": {
    "collapsed": true
   },
   "outputs": [],
   "source": []
  }
 ],
 "metadata": {
  "kernelspec": {
   "display_name": "Python 2",
   "language": "python",
   "name": "python2"
  },
  "language_info": {
   "codemirror_mode": {
    "name": "ipython",
    "version": 2
   },
   "file_extension": ".py",
   "mimetype": "text/x-python",
   "name": "python",
   "nbconvert_exporter": "python",
   "pygments_lexer": "ipython2",
   "version": "2.7.8"
  }
 },
 "nbformat": 4,
 "nbformat_minor": 0
}
